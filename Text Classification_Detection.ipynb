{
 "cells": [
  {
   "cell_type": "code",
   "execution_count": 49,
   "id": "e9ad1dec",
   "metadata": {},
   "outputs": [],
   "source": [
    "# importing all the necessary libraries\n",
    "import pandas as pd\n",
    "from sklearn.model_selection import train_test_split\n",
    "from sklearn.feature_extraction.text import CountVectorizer\n",
    "from sklearn.linear_model import LogisticRegression\n",
    "from sklearn.metrics import accuracy_score, classification_report"
   ]
  },
  {
   "cell_type": "code",
   "execution_count": 50,
   "id": "3c109324",
   "metadata": {},
   "outputs": [],
   "source": [
    "# Reading the data \n",
    "data = pd.read_excel('text_dataset.xlsx') "
   ]
  },
  {
   "cell_type": "code",
   "execution_count": 51,
   "id": "5612de37",
   "metadata": {},
   "outputs": [
    {
     "data": {
      "text/html": [
       "<div>\n",
       "<style scoped>\n",
       "    .dataframe tbody tr th:only-of-type {\n",
       "        vertical-align: middle;\n",
       "    }\n",
       "\n",
       "    .dataframe tbody tr th {\n",
       "        vertical-align: top;\n",
       "    }\n",
       "\n",
       "    .dataframe thead th {\n",
       "        text-align: right;\n",
       "    }\n",
       "</style>\n",
       "<table border=\"1\" class=\"dataframe\">\n",
       "  <thead>\n",
       "    <tr style=\"text-align: right;\">\n",
       "      <th></th>\n",
       "      <th>id</th>\n",
       "      <th>sentence</th>\n",
       "      <th>voice</th>\n",
       "    </tr>\n",
       "  </thead>\n",
       "  <tbody>\n",
       "    <tr>\n",
       "      <th>0</th>\n",
       "      <td>1.0</td>\n",
       "      <td>The chef prepares the meal.</td>\n",
       "      <td>Active</td>\n",
       "    </tr>\n",
       "    <tr>\n",
       "      <th>1</th>\n",
       "      <td>2.0</td>\n",
       "      <td>The teacher explains the lesson clearly.</td>\n",
       "      <td>Active</td>\n",
       "    </tr>\n",
       "    <tr>\n",
       "      <th>2</th>\n",
       "      <td>3.0</td>\n",
       "      <td>The gardener waters the plants every morning.</td>\n",
       "      <td>Active</td>\n",
       "    </tr>\n",
       "    <tr>\n",
       "      <th>3</th>\n",
       "      <td>4.0</td>\n",
       "      <td>The kids play soccer in the park.</td>\n",
       "      <td>Active</td>\n",
       "    </tr>\n",
       "    <tr>\n",
       "      <th>4</th>\n",
       "      <td>5.0</td>\n",
       "      <td>The author wrote a thrilling novel.</td>\n",
       "      <td>Active</td>\n",
       "    </tr>\n",
       "    <tr>\n",
       "      <th>5</th>\n",
       "      <td>6.0</td>\n",
       "      <td>The scientist conducts experiments in the lab.</td>\n",
       "      <td>Active</td>\n",
       "    </tr>\n",
       "    <tr>\n",
       "      <th>6</th>\n",
       "      <td>7.0</td>\n",
       "      <td>The company launched a new product.</td>\n",
       "      <td>Active</td>\n",
       "    </tr>\n",
       "    <tr>\n",
       "      <th>7</th>\n",
       "      <td>8.0</td>\n",
       "      <td>The artist paints a beautiful portrait.</td>\n",
       "      <td>Active</td>\n",
       "    </tr>\n",
       "    <tr>\n",
       "      <th>8</th>\n",
       "      <td>9.0</td>\n",
       "      <td>The musician composes a melody.</td>\n",
       "      <td>Active</td>\n",
       "    </tr>\n",
       "    <tr>\n",
       "      <th>9</th>\n",
       "      <td>10.0</td>\n",
       "      <td>The photographer takes stunning pictures.</td>\n",
       "      <td>Active</td>\n",
       "    </tr>\n",
       "    <tr>\n",
       "      <th>10</th>\n",
       "      <td>11.0</td>\n",
       "      <td>The director shoots the film in various locati...</td>\n",
       "      <td>Active</td>\n",
       "    </tr>\n",
       "    <tr>\n",
       "      <th>11</th>\n",
       "      <td>12.0</td>\n",
       "      <td>The journalist reports the news accurately.</td>\n",
       "      <td>Active</td>\n",
       "    </tr>\n",
       "    <tr>\n",
       "      <th>12</th>\n",
       "      <td>13.0</td>\n",
       "      <td>The designer creates a modern dress.</td>\n",
       "      <td>Active</td>\n",
       "    </tr>\n",
       "    <tr>\n",
       "      <th>13</th>\n",
       "      <td>14.0</td>\n",
       "      <td>The engineer designs a new bridge.</td>\n",
       "      <td>Active</td>\n",
       "    </tr>\n",
       "    <tr>\n",
       "      <th>14</th>\n",
       "      <td>15.0</td>\n",
       "      <td>The programmer codes the application.</td>\n",
       "      <td>Active</td>\n",
       "    </tr>\n",
       "    <tr>\n",
       "      <th>15</th>\n",
       "      <td>16.0</td>\n",
       "      <td>The architect draws the plans for the house.</td>\n",
       "      <td>Active</td>\n",
       "    </tr>\n",
       "    <tr>\n",
       "      <th>16</th>\n",
       "      <td>17.0</td>\n",
       "      <td>The manager organizes the work schedule.</td>\n",
       "      <td>Active</td>\n",
       "    </tr>\n",
       "    <tr>\n",
       "      <th>17</th>\n",
       "      <td>18.0</td>\n",
       "      <td>The waiter serves the customers efficiently.</td>\n",
       "      <td>Active</td>\n",
       "    </tr>\n",
       "    <tr>\n",
       "      <th>18</th>\n",
       "      <td>19.0</td>\n",
       "      <td>The driver transports the goods safely.</td>\n",
       "      <td>Active</td>\n",
       "    </tr>\n",
       "    <tr>\n",
       "      <th>19</th>\n",
       "      <td>20.0</td>\n",
       "      <td>The student submits the assignment on time.</td>\n",
       "      <td>Active</td>\n",
       "    </tr>\n",
       "    <tr>\n",
       "      <th>20</th>\n",
       "      <td>21.0</td>\n",
       "      <td>The meal is prepared by the chef.</td>\n",
       "      <td>Passive</td>\n",
       "    </tr>\n",
       "    <tr>\n",
       "      <th>21</th>\n",
       "      <td>22.0</td>\n",
       "      <td>The lesson is clearly explained by the teacher.</td>\n",
       "      <td>Passive</td>\n",
       "    </tr>\n",
       "    <tr>\n",
       "      <th>22</th>\n",
       "      <td>23.0</td>\n",
       "      <td>The plants are watered every morning by the ga...</td>\n",
       "      <td>Passive</td>\n",
       "    </tr>\n",
       "    <tr>\n",
       "      <th>23</th>\n",
       "      <td>24.0</td>\n",
       "      <td>Soccer is played in the park by the kids.</td>\n",
       "      <td>Passive</td>\n",
       "    </tr>\n",
       "    <tr>\n",
       "      <th>24</th>\n",
       "      <td>25.0</td>\n",
       "      <td>A thrilling novel was written by the author.</td>\n",
       "      <td>Passive</td>\n",
       "    </tr>\n",
       "    <tr>\n",
       "      <th>25</th>\n",
       "      <td>26.0</td>\n",
       "      <td>Experiments are conducted in the lab by the sc...</td>\n",
       "      <td>Passive</td>\n",
       "    </tr>\n",
       "    <tr>\n",
       "      <th>26</th>\n",
       "      <td>27.0</td>\n",
       "      <td>A new product was launched by the company.</td>\n",
       "      <td>Passive</td>\n",
       "    </tr>\n",
       "    <tr>\n",
       "      <th>27</th>\n",
       "      <td>28.0</td>\n",
       "      <td>A beautiful portrait is painted by the artist.</td>\n",
       "      <td>Passive</td>\n",
       "    </tr>\n",
       "    <tr>\n",
       "      <th>28</th>\n",
       "      <td>29.0</td>\n",
       "      <td>A melody is composed by the musician.</td>\n",
       "      <td>Passive</td>\n",
       "    </tr>\n",
       "    <tr>\n",
       "      <th>29</th>\n",
       "      <td>30.0</td>\n",
       "      <td>Stunning pictures are taken by the photographer.</td>\n",
       "      <td>Passive</td>\n",
       "    </tr>\n",
       "    <tr>\n",
       "      <th>30</th>\n",
       "      <td>31.0</td>\n",
       "      <td>The film is shot in various locations by the d...</td>\n",
       "      <td>Passive</td>\n",
       "    </tr>\n",
       "    <tr>\n",
       "      <th>31</th>\n",
       "      <td>32.0</td>\n",
       "      <td>The news is accurately reported by the journal...</td>\n",
       "      <td>Passive</td>\n",
       "    </tr>\n",
       "    <tr>\n",
       "      <th>32</th>\n",
       "      <td>33.0</td>\n",
       "      <td>A modern dress is created by the designer.</td>\n",
       "      <td>Passive</td>\n",
       "    </tr>\n",
       "    <tr>\n",
       "      <th>33</th>\n",
       "      <td>34.0</td>\n",
       "      <td>A new bridge is designed by the engineer.</td>\n",
       "      <td>Passive</td>\n",
       "    </tr>\n",
       "    <tr>\n",
       "      <th>34</th>\n",
       "      <td>35.0</td>\n",
       "      <td>The application is coded by the programmer.</td>\n",
       "      <td>Passive</td>\n",
       "    </tr>\n",
       "    <tr>\n",
       "      <th>35</th>\n",
       "      <td>36.0</td>\n",
       "      <td>The plans for the house are drawn by the archi...</td>\n",
       "      <td>Passive</td>\n",
       "    </tr>\n",
       "    <tr>\n",
       "      <th>36</th>\n",
       "      <td>37.0</td>\n",
       "      <td>The work schedule is organized by the manager.</td>\n",
       "      <td>Passive</td>\n",
       "    </tr>\n",
       "    <tr>\n",
       "      <th>37</th>\n",
       "      <td>38.0</td>\n",
       "      <td>The customers are served efficiently by the wa...</td>\n",
       "      <td>Passive</td>\n",
       "    </tr>\n",
       "    <tr>\n",
       "      <th>38</th>\n",
       "      <td>39.0</td>\n",
       "      <td>The goods are transported safely by the driver.</td>\n",
       "      <td>Passive</td>\n",
       "    </tr>\n",
       "    <tr>\n",
       "      <th>39</th>\n",
       "      <td>40.0</td>\n",
       "      <td>The assignment is submitted on time by the stu...</td>\n",
       "      <td>Passive</td>\n",
       "    </tr>\n",
       "  </tbody>\n",
       "</table>\n",
       "</div>"
      ],
      "text/plain": [
       "      id                                           sentence    voice\n",
       "0    1.0                        The chef prepares the meal.   Active\n",
       "1    2.0           The teacher explains the lesson clearly.   Active\n",
       "2    3.0      The gardener waters the plants every morning.   Active\n",
       "3    4.0                  The kids play soccer in the park.   Active\n",
       "4    5.0                The author wrote a thrilling novel.   Active\n",
       "5    6.0     The scientist conducts experiments in the lab.   Active\n",
       "6    7.0                The company launched a new product.   Active\n",
       "7    8.0            The artist paints a beautiful portrait.   Active\n",
       "8    9.0                    The musician composes a melody.   Active\n",
       "9   10.0          The photographer takes stunning pictures.   Active\n",
       "10  11.0  The director shoots the film in various locati...   Active\n",
       "11  12.0        The journalist reports the news accurately.   Active\n",
       "12  13.0               The designer creates a modern dress.   Active\n",
       "13  14.0                 The engineer designs a new bridge.   Active\n",
       "14  15.0              The programmer codes the application.   Active\n",
       "15  16.0       The architect draws the plans for the house.   Active\n",
       "16  17.0           The manager organizes the work schedule.   Active\n",
       "17  18.0       The waiter serves the customers efficiently.   Active\n",
       "18  19.0            The driver transports the goods safely.   Active\n",
       "19  20.0        The student submits the assignment on time.   Active\n",
       "20  21.0                  The meal is prepared by the chef.  Passive\n",
       "21  22.0    The lesson is clearly explained by the teacher.  Passive\n",
       "22  23.0  The plants are watered every morning by the ga...  Passive\n",
       "23  24.0          Soccer is played in the park by the kids.  Passive\n",
       "24  25.0       A thrilling novel was written by the author.  Passive\n",
       "25  26.0  Experiments are conducted in the lab by the sc...  Passive\n",
       "26  27.0         A new product was launched by the company.  Passive\n",
       "27  28.0     A beautiful portrait is painted by the artist.  Passive\n",
       "28  29.0              A melody is composed by the musician.  Passive\n",
       "29  30.0   Stunning pictures are taken by the photographer.  Passive\n",
       "30  31.0  The film is shot in various locations by the d...  Passive\n",
       "31  32.0  The news is accurately reported by the journal...  Passive\n",
       "32  33.0         A modern dress is created by the designer.  Passive\n",
       "33  34.0          A new bridge is designed by the engineer.  Passive\n",
       "34  35.0        The application is coded by the programmer.  Passive\n",
       "35  36.0  The plans for the house are drawn by the archi...  Passive\n",
       "36  37.0     The work schedule is organized by the manager.  Passive\n",
       "37  38.0  The customers are served efficiently by the wa...  Passive\n",
       "38  39.0    The goods are transported safely by the driver.  Passive\n",
       "39  40.0  The assignment is submitted on time by the stu...  Passive"
      ]
     },
     "execution_count": 51,
     "metadata": {},
     "output_type": "execute_result"
    }
   ],
   "source": [
    "# see the data \n",
    "data"
   ]
  },
  {
   "cell_type": "code",
   "execution_count": 52,
   "id": "077888a1",
   "metadata": {},
   "outputs": [],
   "source": [
    "# selecting the target variable and features \n",
    "X = data['sentence']\n",
    "y = data['voice'] "
   ]
  },
  {
   "cell_type": "code",
   "execution_count": 53,
   "id": "6bce0af9",
   "metadata": {},
   "outputs": [],
   "source": [
    "# splitting the data into train, validation and test\n",
    "X_train, X_temp, y_train, y_temp = train_test_split(X, y, test_size=0.4, random_state=42)\n",
    "X_val, X_test, y_val, y_test = train_test_split(X_temp, y_temp, test_size=0.5, random_state=42)"
   ]
  },
  {
   "cell_type": "code",
   "execution_count": 54,
   "id": "af84a772",
   "metadata": {},
   "outputs": [],
   "source": [
    "# converting the text data into numerical values\n",
    "vectorizer = CountVectorizer()\n",
    "X_train_vec = vectorizer.fit_transform(X_train)\n",
    "X_val_vec = vectorizer.transform(X_val)\n",
    "X_test_vec = vectorizer.transform(X_test)"
   ]
  },
  {
   "cell_type": "code",
   "execution_count": 55,
   "id": "dae6ff08",
   "metadata": {},
   "outputs": [
    {
     "data": {
      "text/plain": [
       "LogisticRegression()"
      ]
     },
     "execution_count": 55,
     "metadata": {},
     "output_type": "execute_result"
    }
   ],
   "source": [
    "# training model\n",
    "classifier = LogisticRegression()\n",
    "classifier.fit(X_train_vec, y_train)"
   ]
  },
  {
   "cell_type": "code",
   "execution_count": 56,
   "id": "77945b5c",
   "metadata": {},
   "outputs": [
    {
     "name": "stdout",
     "output_type": "stream",
     "text": [
      "['Active' 'Active' 'Active' 'Passive' 'Passive' 'Active' 'Passive'\n",
      " 'Passive']\n",
      "---------------------------------------------->\n",
      "15         The architect draws the plans for the house.\n",
      "8                       The musician composes a melody.\n",
      "4                   The author wrote a thrilling novel.\n",
      "27       A beautiful portrait is painted by the artist.\n",
      "25    Experiments are conducted in the lab by the sc...\n",
      "13                   The engineer designs a new bridge.\n",
      "26           A new product was launched by the company.\n",
      "37    The customers are served efficiently by the wa...\n",
      "Name: sentence, dtype: object\n"
     ]
    }
   ],
   "source": [
    "# evaluating on validation data\n",
    "y_val_pred = classifier.predict(X_val_vec)\n",
    "print(y_val_pred)\n",
    "print(\"---------------------------------------------->\")\n",
    "print(X_val)"
   ]
  },
  {
   "cell_type": "code",
   "execution_count": 57,
   "id": "78a273e5",
   "metadata": {},
   "outputs": [
    {
     "name": "stdout",
     "output_type": "stream",
     "text": [
      "Validation Accuracy: 1.0\n",
      "---------------------------------------------->\n",
      "              precision    recall  f1-score   support\n",
      "\n",
      "      Active       1.00      1.00      1.00         4\n",
      "     Passive       1.00      1.00      1.00         4\n",
      "\n",
      "    accuracy                           1.00         8\n",
      "   macro avg       1.00      1.00      1.00         8\n",
      "weighted avg       1.00      1.00      1.00         8\n",
      "\n"
     ]
    }
   ],
   "source": [
    "# evaluating on validation data\n",
    "val_accuracy = accuracy_score(y_val, y_val_pred)\n",
    "print(\"Validation Accuracy:\", val_accuracy)\n",
    "print(\"---------------------------------------------->\")\n",
    "print(classification_report(y_val, y_val_pred))"
   ]
  },
  {
   "cell_type": "code",
   "execution_count": 58,
   "id": "df2b73ba",
   "metadata": {},
   "outputs": [
    {
     "name": "stdout",
     "output_type": "stream",
     "text": [
      "['Active' 'Active' 'Active' 'Passive' 'Passive' 'Active' 'Passive'\n",
      " 'Active']\n",
      "---------------------------------------------->\n",
      "19          The student submits the assignment on time.\n",
      "16             The manager organizes the work schedule.\n",
      "12                 The designer creates a modern dress.\n",
      "34          The application is coded by the programmer.\n",
      "31    The news is accurately reported by the journal...\n",
      "9             The photographer takes stunning pictures.\n",
      "39    The assignment is submitted on time by the stu...\n",
      "6                   The company launched a new product.\n",
      "Name: sentence, dtype: object\n"
     ]
    }
   ],
   "source": [
    "# evaluating on testing data\n",
    "y_test_pred = classifier.predict(X_test_vec)\n",
    "print(y_test_pred)\n",
    "print(\"---------------------------------------------->\")\n",
    "print(X_test)"
   ]
  },
  {
   "cell_type": "code",
   "execution_count": 59,
   "id": "ac19a85d",
   "metadata": {},
   "outputs": [
    {
     "name": "stdout",
     "output_type": "stream",
     "text": [
      "Test Accuracy: 1.0\n",
      "---------------------------------------------->\n",
      "              precision    recall  f1-score   support\n",
      "\n",
      "      Active       1.00      1.00      1.00         5\n",
      "     Passive       1.00      1.00      1.00         3\n",
      "\n",
      "    accuracy                           1.00         8\n",
      "   macro avg       1.00      1.00      1.00         8\n",
      "weighted avg       1.00      1.00      1.00         8\n",
      "\n"
     ]
    }
   ],
   "source": [
    "# evaluating on testing data\n",
    "test_accuracy = accuracy_score(y_test, y_test_pred)\n",
    "print(\"Test Accuracy:\", test_accuracy)\n",
    "print(\"---------------------------------------------->\")\n",
    "print(classification_report(y_test, y_test_pred))"
   ]
  },
  {
   "cell_type": "code",
   "execution_count": 60,
   "id": "3eec7b65",
   "metadata": {},
   "outputs": [
    {
     "data": {
      "text/plain": [
       "19          The student submits the assignment on time.\n",
       "16             The manager organizes the work schedule.\n",
       "12                 The designer creates a modern dress.\n",
       "34          The application is coded by the programmer.\n",
       "31    The news is accurately reported by the journal...\n",
       "9             The photographer takes stunning pictures.\n",
       "39    The assignment is submitted on time by the stu...\n",
       "6                   The company launched a new product.\n",
       "Name: sentence, dtype: object"
      ]
     },
     "execution_count": 60,
     "metadata": {},
     "output_type": "execute_result"
    }
   ],
   "source": [
    "X_test"
   ]
  },
  {
   "cell_type": "code",
   "execution_count": 72,
   "id": "4e28aa25",
   "metadata": {},
   "outputs": [],
   "source": [
    "# Let understand with Example Sentence\n",
    "example = {\n",
    "    \"sentence\": [\"A Honda car was bought by me\"]\n",
    "}"
   ]
  },
  {
   "cell_type": "code",
   "execution_count": 73,
   "id": "a8a9c75b",
   "metadata": {},
   "outputs": [],
   "source": [
    "sample_df = pd.DataFrame(example)"
   ]
  },
  {
   "cell_type": "code",
   "execution_count": 74,
   "id": "052cb6aa",
   "metadata": {},
   "outputs": [
    {
     "name": "stdout",
     "output_type": "stream",
     "text": [
      "                       sentence\n",
      "0  A Honda car was bought by me\n"
     ]
    }
   ],
   "source": [
    "print(sample_df)"
   ]
  },
  {
   "cell_type": "code",
   "execution_count": 75,
   "id": "36da2c00",
   "metadata": {},
   "outputs": [
    {
     "name": "stdout",
     "output_type": "stream",
     "text": [
      "  (0, 8)\t1\n",
      "  (0, 79)\t1\n"
     ]
    }
   ],
   "source": [
    "# X_test_vec = vectorizer.transform(sample_df)\n",
    "X_test_vec = vectorizer.transform(sample_df['sentence'])\n",
    "print(X_test_vec)"
   ]
  },
  {
   "cell_type": "code",
   "execution_count": null,
   "id": "1311c58e",
   "metadata": {},
   "outputs": [],
   "source": []
  },
  {
   "cell_type": "code",
   "execution_count": null,
   "id": "aca530d3",
   "metadata": {},
   "outputs": [],
   "source": []
  },
  {
   "cell_type": "code",
   "execution_count": null,
   "id": "111b076c",
   "metadata": {},
   "outputs": [],
   "source": []
  }
 ],
 "metadata": {
  "kernelspec": {
   "display_name": "Python 3 (ipykernel)",
   "language": "python",
   "name": "python3"
  },
  "language_info": {
   "codemirror_mode": {
    "name": "ipython",
    "version": 3
   },
   "file_extension": ".py",
   "mimetype": "text/x-python",
   "name": "python",
   "nbconvert_exporter": "python",
   "pygments_lexer": "ipython3",
   "version": "3.7.2"
  }
 },
 "nbformat": 4,
 "nbformat_minor": 5
}
